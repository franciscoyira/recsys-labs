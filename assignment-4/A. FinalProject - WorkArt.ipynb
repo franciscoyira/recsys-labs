{
 "cells": [
  {
   "cell_type": "markdown",
   "metadata": {},
   "source": [
    "# Proyecto Final A\n",
    "\n",
    "En este proyecto trabajaremos con un modelo de [recomendación de arte](https://arxiv.org/abs/1706.07515) que vimos en la clase número 3. El modelo de recomendación de arte es un modelo basado en contenido, donde se utilizan redes neuronales convolucionales para el cálculo de similaridades de ítems. Luego, dependiendo de los productos que el usuario ha consumido, se recomiendan los ítems más similares."
   ]
  },
  {
   "cell_type": "code",
   "execution_count": null,
   "metadata": {
    "collapsed": true
   },
   "outputs": [],
   "source": [
    "import numpy as np\n",
    "import json\n",
    "import requests\n",
    "import heapq\n",
    "import math\n",
    "import matplotlib.pyplot as plt\n",
    "from sklearn.metrics import pairwise_distances\n",
    "from sklearn.decomposition import PCA\n",
    "from PIL import Image\n",
    "from io import BytesIO\n",
    "import pickle"
   ]
  },
  {
   "cell_type": "markdown",
   "metadata": {},
   "source": [
    "## Load pre-trained CNN features: ResNet50 and VGG19\n",
    "\n",
    "En esta sección se trabajará con modelos pre-entrenados de las arquitecturas ResNet50 y VGG19\n",
    "\n",
    "Para los curiosos se recomienda revisar los siguientes links:\n",
    "\n",
    "- Artículo: (Understand Deep Residual Networks)[https://blog.waya.ai/deep-residual-learning-9610bb62c355]\n",
    "- (Keras applications)[https://keras.io/applications/]\n",
    "\n",
    "Para efectos de este trabajo los vectores característicos y fueron entrenados y guardados en archivos numpy. A continuación son cargads en memoria."
   ]
  },
  {
   "cell_type": "code",
   "execution_count": null,
   "metadata": {
    "collapsed": true
   },
   "outputs": [],
   "source": [
    "resnet50_featmat = np.load('./assets/resnet50_feature_matrix.npy')\n",
    "vgg19_featmat = np.load('./assets/vgg19_feature_matrix.npy')"
   ]
  },
  {
   "cell_type": "markdown",
   "metadata": {},
   "source": [
    "**Pregunta** ¿Por qué el uso de una red convolucional es una buena elección para este tipo de problema?"
   ]
  },
  {
   "cell_type": "markdown",
   "metadata": {},
   "source": [
    "**Respuesta**"
   ]
  },
  {
   "cell_type": "markdown",
   "metadata": {},
   "source": [
    "## Load additional json files\n",
    "\n",
    "En esta sección se cargan archivos auxiliares que luego serán útiles para el cálculo de las recomendaciones."
   ]
  },
  {
   "cell_type": "code",
   "execution_count": null,
   "metadata": {
    "collapsed": true
   },
   "outputs": [],
   "source": [
    "print('Loading index2artworkId.json')\n",
    "with open('./assets/index2artworkId.json') as f:\n",
    "    index2id = json.load(f)\n",
    "    id2index = {_id:i for i,_id in enumerate(index2id)}\n",
    "    \n",
    "print('Loading artworkImageUrlsCache.json')\n",
    "with open('./assets/artworkImageUrlsCache.json') as f:\n",
    "    image_urls_cache = json.load(f)\n",
    "    \n",
    "print('Loading past_transactions.pickle')\n",
    "with open('./assets/past_transactions.pickle', 'rb') as f:\n",
    "    past_transactions = pickle.load(f)\n",
    "    \n",
    "print('Loading ground_truth.pickle')\n",
    "with open('./assets/ground_truth.pickle', 'rb') as f:\n",
    "    ground_truth = pickle.load(f)\n",
    "    \n",
    "len(index2id), resnet50_featmat.shape, vgg19_featmat.shape"
   ]
  },
  {
   "cell_type": "markdown",
   "metadata": {},
   "source": [
    "## Concatenate  ResNet50 + VGG19, apply z-score normalization and finally PCA(100)\n",
    "\n",
    "Una vez calculado (o cargado) los vectores característicos de cada imagen, se deben preprocesar para generar un único vector por cada instancia. Para lograr este objetivo se concatenan los vectores de las redes ResNet50 y VGG19, luego son normalizados restando la media del vector a cada dimensión y luego dividir por su desviación estándar.\n",
    "\n",
    "$x_i = \\frac{x_i - \\bar{x}}{\\sigma}$\n",
    "\n",
    "Finalmente los vectores son reducidos a una dimensión de 100 mediante la técnica PCA."
   ]
  },
  {
   "cell_type": "code",
   "execution_count": null,
   "metadata": {
    "collapsed": true
   },
   "outputs": [],
   "source": [
    "def normalize_zscore_inplace(featmat):\n",
    "    means = featmat.mean(0)\n",
    "    stds = featmat.std(0)\n",
    "    for i in range(stds.shape[0]):\n",
    "        if stds[i] == 0:\n",
    "            stds[i] = 1\n",
    "    featmat -= means\n",
    "    featmat /= stds"
   ]
  },
  {
   "cell_type": "code",
   "execution_count": null,
   "metadata": {
    "collapsed": true
   },
   "outputs": [],
   "source": [
    "n_artworks = len(index2id)\n",
    "resnet50_dim = resnet50_featmat.shape[1]\n",
    "vgg19_dim = vgg19_featmat.shape[1]"
   ]
  },
  {
   "cell_type": "code",
   "execution_count": null,
   "metadata": {
    "collapsed": true
   },
   "outputs": [],
   "source": [
    "resnet_vgg_hybrid_featmat = np.empty(shape=(n_artworks, resnet50_dim + vgg19_dim))\n",
    "for i in range(n_artworks):\n",
    "    resnet_vgg_hybrid_featmat[i][:resnet50_dim] = resnet50_featmat[i]\n",
    "    resnet_vgg_hybrid_featmat[i][resnet50_dim:] = vgg19_featmat[i]\n",
    "normalize_zscore_inplace(resnet_vgg_hybrid_featmat)"
   ]
  },
  {
   "cell_type": "code",
   "execution_count": null,
   "metadata": {
    "collapsed": true
   },
   "outputs": [],
   "source": [
    "# Project into a 100 PCA feature space\n",
    "pca100_resnet_vgg_hybrid_featmat = PCA(n_components=100).fit_transform(resnet_vgg_hybrid_featmat)"
   ]
  },
  {
   "cell_type": "markdown",
   "metadata": {},
   "source": [
    "**Pregunta** Comente por qué se utiliza PCA para reducir la dimensión de cada vector característico. ¿Qué sucede con la pérdida de información en la reducción de dimensión?"
   ]
  },
  {
   "cell_type": "markdown",
   "metadata": {},
   "source": [
    "**Respuesta**"
   ]
  },
  {
   "cell_type": "markdown",
   "metadata": {},
   "source": [
    "## Similar image retrieval"
   ]
  },
  {
   "cell_type": "markdown",
   "metadata": {},
   "source": [
    "En esta sección utilizaremos los vectores cargados para hacer un sistema de recuperación o búsqueda de información, para diferentes métricas de distancia."
   ]
  },
  {
   "cell_type": "code",
   "execution_count": null,
   "metadata": {
    "collapsed": true
   },
   "outputs": [],
   "source": [
    "# Download images by url\n",
    "\n",
    "image_cache = dict()\n",
    "def get_image(_id):\n",
    "    _id = str(_id)\n",
    "    try:\n",
    "        return image_cache[_id]\n",
    "    except KeyError:\n",
    "        url = image_urls_cache[_id]['medium']\n",
    "        try:\n",
    "            r = requests.get(url, timeout=3)\n",
    "        except requests.exceptions.timeout:\n",
    "            print('timeout detected for url = ', url)\n",
    "            return None\n",
    "        if r.status_code == 200:\n",
    "            img = Image.open(BytesIO(r.content))\n",
    "            image_cache[_id] = img\n",
    "            return img\n",
    "        else:\n",
    "            return None"
   ]
  },
  {
   "cell_type": "code",
   "execution_count": null,
   "metadata": {
    "collapsed": true
   },
   "outputs": [],
   "source": [
    "# Find similar images by query id\n",
    "\n",
    "def find_similar_images(embedding, query_id=None, metrics=('euclidean',), topk=5):\n",
    "    assert len(metrics) > 0\n",
    "    assert topk <= 20 # to avoid requesting too many images\n",
    "    n = embedding.shape[0]\n",
    "    if query_id is None:\n",
    "        query_i = np.random.randint(n)\n",
    "        query_id = index2id[query_i]\n",
    "    else:\n",
    "        query_i = id2index[query_id]\n",
    "        \n",
    "    # --- show query image\n",
    "    plt.title('query_id = %d' % query_id)\n",
    "    plt.imshow(get_image(query_id))\n",
    "    plt.show()\n",
    "\n",
    "    # --- show retrieved images for each metric\n",
    "    for metric in metrics:\n",
    "        print('-------- retrieved with metric = %s -----' % metric)\n",
    "        distances = pairwise_distances(embedding[query_i].reshape(1,-1), embedding, metric=metric)\n",
    "        heap = []\n",
    "        for i in range(n):            \n",
    "            if len(heap) < topk:\n",
    "                heapq.heappush(heap, (-distances[0][i], i))\n",
    "            else:\n",
    "                heapq.heappushpop(heap, (-distances[0][i], i))\n",
    "        heap.sort(reverse=True)\n",
    "        \n",
    "        fig = plt.figure(1, (20,15))        \n",
    "        nrows = math.ceil(topk/4)\n",
    "        ncols = min(topk, 4)\n",
    "        for i, (_,index) in enumerate(heap):\n",
    "            ax = plt.subplot(nrows, ncols, i+1)\n",
    "            _id = index2id[index]\n",
    "            img = get_image(_id)\n",
    "            if img is None:\n",
    "                ax.set_title('%d) id = %d not found' % (i, _id))\n",
    "            else:\n",
    "                ax.set_title('%d) id = %d' % (i, _id))\n",
    "                ax.imshow(img, interpolation=\"nearest\")\n",
    "        plt.show()"
   ]
  },
  {
   "cell_type": "markdown",
   "metadata": {},
   "source": [
    "#### Usando ResNet50"
   ]
  },
  {
   "cell_type": "code",
   "execution_count": null,
   "metadata": {
    "collapsed": true,
    "scrolled": false
   },
   "outputs": [],
   "source": [
    "# Retrieve images using ResNet50 and cosine similarity\n",
    "find_similar_images(resnet50_featmat, metrics=('cosine',), query_id=43118, topk=8)"
   ]
  },
  {
   "cell_type": "markdown",
   "metadata": {},
   "source": [
    "#### Usando VGG19"
   ]
  },
  {
   "cell_type": "code",
   "execution_count": null,
   "metadata": {
    "collapsed": true,
    "scrolled": false
   },
   "outputs": [],
   "source": [
    "# Retrieve images using VGG19 and cosine similarity\n",
    "find_similar_images(vgg19_featmat, metrics=('cosine',), query_id=43118, topk=8)"
   ]
  },
  {
   "cell_type": "markdown",
   "metadata": {},
   "source": [
    "#### 4.3) using PCA(100) over ResNet50+VGG19 hybrid"
   ]
  },
  {
   "cell_type": "code",
   "execution_count": null,
   "metadata": {
    "collapsed": true,
    "scrolled": false
   },
   "outputs": [],
   "source": [
    "# Retrieve images using PCA features, cosine and euclidean similarity\n",
    "find_similar_images(pca100_resnet_vgg_hybrid_featmat, metrics=('cosine','euclidean'), query_id=43118, topk=8)"
   ]
  },
  {
   "cell_type": "markdown",
   "metadata": {},
   "source": [
    "**Pregunta** Comente sobre los resultados al realizar consultas utilizando diferentes métricas de distancia y vectores característicos. ¿Son similares? ¿Cuál crees que es la combinación más apropiada y por qué? Si necesitas hacer otras consultas puedes agregar más celdas."
   ]
  },
  {
   "cell_type": "markdown",
   "metadata": {},
   "source": [
    "**Respuesta** hola"
   ]
  },
  {
   "cell_type": "markdown",
   "metadata": {},
   "source": [
    "## Recomendaciones"
   ]
  },
  {
   "cell_type": "code",
   "execution_count": null,
   "metadata": {
    "collapsed": true
   },
   "outputs": [],
   "source": [
    "def recommend(embedding, user_id, topk=10, metric='cosine'):\n",
    "    assert user_id >= 0\n",
    "    assert user_id < 25\n",
    "    \n",
    "    #Calculate distance metrics\n",
    "    trx = past_transactions[user_id]\n",
    "    n = embedding.shape[0]\n",
    "    distances = 0.\n",
    "    for t in trx:\n",
    "        query_i = id2index[t]\n",
    "        distances += pairwise_distances(embedding[query_i].reshape(1,-1), embedding, metric=metric)\n",
    "\n",
    "    #Rank items\n",
    "    heap = []\n",
    "    for i in range(n):           \n",
    "        heapq.heappush(heap, (-distances[0][i], i))\n",
    "    heap.sort(reverse=True)\n",
    "    \n",
    "    #Show consumed items\n",
    "    print('Consumed items')\n",
    "    fig_user = plt.figure(1, (20,15))\n",
    "    nrows = math.ceil(len(trx)/4)\n",
    "    ncols = min(len(trx), 4)\n",
    "    for i, index in enumerate(trx):\n",
    "        ax = plt.subplot(nrows, ncols, i+1)\n",
    "        try:\n",
    "            img = get_image(index)\n",
    "        except:\n",
    "            pass\n",
    "        if img is None:\n",
    "            ax.set_title('%d) id = %d not found' % (i, index))\n",
    "        else:\n",
    "            ax.set_title('%d) id = %d' % (i, index))\n",
    "            ax.imshow(img, interpolation=\"nearest\")\n",
    "    plt.show()\n",
    "\n",
    "    #Show recommended items\n",
    "    print('Recommended items')\n",
    "    fig = plt.figure(1, (20,15))        \n",
    "    nrows = math.ceil(topk/4)\n",
    "    ncols = min(topk, 4)\n",
    "    shown = 0\n",
    "    recommended = []\n",
    "    for i, (_,index) in enumerate(heap):\n",
    "        if shown < topk:\n",
    "            ax = plt.subplot(nrows, ncols, shown+1)\n",
    "            _id = index2id[index]\n",
    "            if _id not in trx:\n",
    "                try:\n",
    "                    img = get_image(_id)\n",
    "                    shown += 1\n",
    "                    recommended.append(_id)\n",
    "                except:\n",
    "                    pass\n",
    "                if img is None:\n",
    "                    ax.set_title('%d) id = %d not found' % (i, _id))\n",
    "                else:\n",
    "                    ax.set_title('%d) id = %d' % (i, _id))\n",
    "                    ax.imshow(img, interpolation=\"nearest\")\n",
    "        else:\n",
    "            break\n",
    "    plt.show()\n",
    "    return recommended"
   ]
  },
  {
   "cell_type": "code",
   "execution_count": null,
   "metadata": {
    "collapsed": true,
    "scrolled": false
   },
   "outputs": [],
   "source": [
    "rec = recommend(pca100_resnet_vgg_hybrid_featmat, 1, 10)"
   ]
  },
  {
   "cell_type": "markdown",
   "metadata": {},
   "source": [
    "**Pregunta** Dado los ítems que el usuario ha consumido y sus recomendaciones. ¿Qué efecto puedes identificar en el caso? ¿Son variadas las recomendaciones? Justifique en base a lo visto durante el curso."
   ]
  },
  {
   "cell_type": "markdown",
   "metadata": {},
   "source": [
    "**Respuesta**"
   ]
  },
  {
   "cell_type": "markdown",
   "metadata": {},
   "source": [
    "**Pregunta** ¿Si tuvieras que elegir un modelo con cuál te quedarías? Justifica tu respuesta."
   ]
  },
  {
   "cell_type": "markdown",
   "metadata": {},
   "source": [
    "**Respuesta**"
   ]
  },
  {
   "cell_type": "markdown",
   "metadata": {},
   "source": [
    "**Preunta** Basado en lo visto en clases indica 2 o 3 métricas que midan el rendimiento de nuestro modelorecomendador en este problema. ¿Cuáles son las ventajas y desventajas de cada uno?"
   ]
  },
  {
   "cell_type": "markdown",
   "metadata": {},
   "source": [
    "**Respuesta**"
   ]
  },
  {
   "cell_type": "markdown",
   "metadata": {},
   "source": [
    "**Pregunta** Genera nuevas recomendaciones mediante la función `recommend` cambiando el tipo de _embedding_ y la métrica de distancia."
   ]
  },
  {
   "cell_type": "code",
   "execution_count": null,
   "metadata": {
    "collapsed": true
   },
   "outputs": [],
   "source": [
    "# Code your answer here"
   ]
  },
  {
   "cell_type": "markdown",
   "metadata": {},
   "source": [
    "## Entregable\n",
    "\n",
    "Una vez completado el laboratorio y respondido las preguntas deberán exportar este archivo en formato `html` y subir a la plataforma _Moodle_.\n",
    "\n",
    "Para exportar este archivo deben ir a `File > Donwload as > HTML (.html)`\n",
    "\n",
    "Si tienen algún problema o duda enviar mail a **dparra [at] ing [dot] puc [dot] cl** o **slarrain [at] uc [dot] cl** anteponiendo [Diplomada Bog Data] en el asunto."
   ]
  }
 ],
 "metadata": {
  "kernelspec": {
   "display_name": "recsys-class",
   "language": "python",
   "name": "recsys-class"
  },
  "language_info": {
   "codemirror_mode": {
    "name": "ipython",
    "version": 3
   },
   "file_extension": ".py",
   "mimetype": "text/x-python",
   "name": "python",
   "nbconvert_exporter": "python",
   "pygments_lexer": "ipython3",
   "version": "3.6.5"
  }
 },
 "nbformat": 4,
 "nbformat_minor": 2
}
